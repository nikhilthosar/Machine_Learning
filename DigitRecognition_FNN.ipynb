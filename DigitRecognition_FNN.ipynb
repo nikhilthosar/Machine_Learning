{
  "nbformat": 4,
  "nbformat_minor": 0,
  "metadata": {
    "colab": {
      "provenance": []
    },
    "kernelspec": {
      "name": "python3",
      "display_name": "Python 3"
    },
    "language_info": {
      "name": "python"
    }
  },
  "cells": [
    {
      "cell_type": "code",
      "execution_count": 113,
      "metadata": {
        "id": "u9Klebam1SDa"
      },
      "outputs": [],
      "source": [
        "import numpy as np\n",
        "import matplotlib.pyplot as plt\n",
        "import tensorflow as tf\n",
        "from tensorflow.keras.models import Sequential\n",
        "from tensorflow.keras.layers import Dense, Flatten\n",
        "from tensorflow.keras.utils import to_categorical\n",
        "from tensorflow.keras.datasets import mnist"
      ]
    },
    {
      "cell_type": "code",
      "source": [
        "(X_train, y_train), (X_test, y_test) = mnist.load_data()"
      ],
      "metadata": {
        "id": "PW3CTOR81u5n"
      },
      "execution_count": 114,
      "outputs": []
    },
    {
      "cell_type": "code",
      "source": [
        "print(X_train.shape)\n",
        "print(X_test.shape)"
      ],
      "metadata": {
        "colab": {
          "base_uri": "https://localhost:8080/"
        },
        "id": "_ChpqQ7M12fr",
        "outputId": "103761a5-d658-498d-ad3b-dc674bc864a5"
      },
      "execution_count": 115,
      "outputs": [
        {
          "output_type": "stream",
          "name": "stdout",
          "text": [
            "(60000, 28, 28)\n",
            "(10000, 28, 28)\n"
          ]
        }
      ]
    },
    {
      "cell_type": "code",
      "source": [
        "print(y_train.shape)\n",
        "print(y_test.shape)"
      ],
      "metadata": {
        "colab": {
          "base_uri": "https://localhost:8080/"
        },
        "id": "ZXbK1VlG2FFi",
        "outputId": "66a4943d-41f2-4f64-a59c-6acaec66bd2f"
      },
      "execution_count": 116,
      "outputs": [
        {
          "output_type": "stream",
          "name": "stdout",
          "text": [
            "(60000,)\n",
            "(10000,)\n"
          ]
        }
      ]
    },
    {
      "cell_type": "code",
      "source": [
        "fig, axes = plt.subplots(ncols=10,sharey = True, sharex = True, figsize=(10, 4))\n",
        "for i in range(10):\n",
        "    axes[i].set_title(y_test[i])\n",
        "    axes[i].imshow(X_test[i], cmap='gray')\n",
        "    axes[i].get_xaxis().set_visible(False)\n",
        "    axes[i].get_yaxis().set_visible(False)\n",
        "plt.show()"
      ],
      "metadata": {
        "colab": {
          "base_uri": "https://localhost:8080/",
          "height": 98
        },
        "id": "pMcA7sp-2Rui",
        "outputId": "fe5b79a3-d9d9-4d90-a56d-64a2a547fb34"
      },
      "execution_count": 117,
      "outputs": [
        {
          "output_type": "display_data",
          "data": {
            "text/plain": [
              "<Figure size 720x288 with 10 Axes>"
            ],
            "image/png": "[encoded data removed]"
          },
          "metadata": {
            "needs_background": "light"
          }
        }
      ]
    },
    {
      "cell_type": "code",
      "source": [
        " \n",
        "temp = []\n",
        "for i in range(len(y_train)):\n",
        "    temp.append(to_categorical(y_train[i], num_classes=10))\n",
        "y_train = np.array(temp)\n",
        "temp = []\n",
        "for i in range(len(y_test)):    \n",
        "    temp.append(to_categorical(y_test[i], num_classes=10))\n",
        "y_test = np.array(temp)"
      ],
      "metadata": {
        "id": "-tnQioCy2SY7"
      },
      "execution_count": 118,
      "outputs": []
    },
    {
      "cell_type": "code",
      "source": [
        "print(y_train.shape)\n",
        "print(y_test.shape)"
      ],
      "metadata": {
        "colab": {
          "base_uri": "https://localhost:8080/"
        },
        "id": "ENZjRywT2z_J",
        "outputId": "f14da662-08f8-4f39-8766-e54314ea646e"
      },
      "execution_count": 119,
      "outputs": [
        {
          "output_type": "stream",
          "name": "stdout",
          "text": [
            "(60000, 10)\n",
            "(10000, 10)\n"
          ]
        }
      ]
    },
    {
      "cell_type": "code",
      "source": [
        "model = Sequential([Flatten(input_shape=(28,28)),Dense(10, activation='sigmoid'),Dense(10, activation='softmax')])"
      ],
      "metadata": {
        "id": "rY7YbF6U3djc"
      },
      "execution_count": 120,
      "outputs": []
    },
    {
      "cell_type": "code",
      "source": [
        "model.summary()"
      ],
      "metadata": {
        "colab": {
          "base_uri": "https://localhost:8080/"
        },
        "id": "Ygt0y3Q14FxP",
        "outputId": "05d125df-78a1-423e-9ad2-86d41e7d707f"
      },
      "execution_count": 121,
      "outputs": [
        {
          "output_type": "stream",
          "name": "stdout",
          "text": [
            "Model: \"sequential_8\"\n",
            "_________________________________________________________________\n",
            " Layer (type)                Output Shape              Param #   \n",
            "=================================================================\n",
            " flatten_8 (Flatten)         (None, 784)               0         \n",
            "                                                                 \n",
            " dense_16 (Dense)            (None, 10)                7850      \n",
            "                                                                 \n",
            " dense_17 (Dense)            (None, 10)                110       \n",
            "                                                                 \n",
            "=================================================================\n",
            "Total params: 7,960\n",
            "Trainable params: 7,960\n",
            "Non-trainable params: 0\n",
            "_________________________________________________________________\n"
          ]
        }
      ]
    },
    {
      "cell_type": "code",
      "source": [
        "model.compile(loss='categorical_crossentropy', \n",
        "              optimizer='adam',\n",
        "              metrics=['acc'])"
      ],
      "metadata": {
        "id": "HGBf3Hkf4GME"
      },
      "execution_count": 122,
      "outputs": []
    },
    {
      "cell_type": "code",
      "source": [
        "model.fit(X_train, y_train, epochs=20, validation_data=(X_test,y_test))"
      ],
      "metadata": {
        "colab": {
          "base_uri": "https://localhost:8080/"
        },
        "id": "uWoqCnk24kQ4",
        "outputId": "1e04ccb3-1d12-4d7f-87ec-da2a9415d4ef"
      },
      "execution_count": 123,
      "outputs": [
        {
          "output_type": "stream",
          "name": "stdout",
          "text": [
            "Epoch 1/20\n",
            "1875/1875 [==============================] - 8s 4ms/step - loss: 1.2776 - acc: 0.6490 - val_loss: 0.8017 - val_acc: 0.7870\n",
            "Epoch 2/20\n",
            "1875/1875 [==============================] - 5s 3ms/step - loss: 0.7467 - acc: 0.7862 - val_loss: 0.6189 - val_acc: 0.8248\n",
            "Epoch 3/20\n",
            "1875/1875 [==============================] - 4s 2ms/step - loss: 0.6369 - acc: 0.8094 - val_loss: 0.5824 - val_acc: 0.8396\n",
            "Epoch 4/20\n",
            "1875/1875 [==============================] - 4s 2ms/step - loss: 0.5984 - acc: 0.8205 - val_loss: 0.5410 - val_acc: 0.8400\n",
            "Epoch 5/20\n",
            "1875/1875 [==============================] - 4s 2ms/step - loss: 0.5764 - acc: 0.8256 - val_loss: 0.5632 - val_acc: 0.8290\n",
            "Epoch 6/20\n",
            "1875/1875 [==============================] - 4s 2ms/step - loss: 0.5607 - acc: 0.8274 - val_loss: 0.5067 - val_acc: 0.8530\n",
            "Epoch 7/20\n",
            "1875/1875 [==============================] - 4s 2ms/step - loss: 0.5485 - acc: 0.8379 - val_loss: 0.5652 - val_acc: 0.8292\n",
            "Epoch 8/20\n",
            "1875/1875 [==============================] - 5s 3ms/step - loss: 0.5277 - acc: 0.8467 - val_loss: 0.5069 - val_acc: 0.8536\n",
            "Epoch 9/20\n",
            "1875/1875 [==============================] - 4s 2ms/step - loss: 0.5326 - acc: 0.8461 - val_loss: 0.4974 - val_acc: 0.8606\n",
            "Epoch 10/20\n",
            "1875/1875 [==============================] - 4s 2ms/step - loss: 0.5147 - acc: 0.8487 - val_loss: 0.4729 - val_acc: 0.8641\n",
            "Epoch 11/20\n",
            "1875/1875 [==============================] - 4s 2ms/step - loss: 0.5039 - acc: 0.8495 - val_loss: 0.4843 - val_acc: 0.8495\n",
            "Epoch 12/20\n",
            "1875/1875 [==============================] - 4s 2ms/step - loss: 0.5029 - acc: 0.8512 - val_loss: 0.4845 - val_acc: 0.8621\n",
            "Epoch 13/20\n",
            "1875/1875 [==============================] - 4s 2ms/step - loss: 0.4991 - acc: 0.8522 - val_loss: 0.4732 - val_acc: 0.8669\n",
            "Epoch 14/20\n",
            "1875/1875 [==============================] - 4s 2ms/step - loss: 0.4906 - acc: 0.8573 - val_loss: 0.4745 - val_acc: 0.8632\n",
            "Epoch 15/20\n",
            "1875/1875 [==============================] - 4s 2ms/step - loss: 0.5156 - acc: 0.8433 - val_loss: 0.4670 - val_acc: 0.8625\n",
            "Epoch 16/20\n",
            "1875/1875 [==============================] - 4s 2ms/step - loss: 0.4634 - acc: 0.8648 - val_loss: 0.4547 - val_acc: 0.8741\n",
            "Epoch 17/20\n",
            "1875/1875 [==============================] - 4s 2ms/step - loss: 0.4619 - acc: 0.8676 - val_loss: 0.4376 - val_acc: 0.8730\n",
            "Epoch 18/20\n",
            "1875/1875 [==============================] - 4s 2ms/step - loss: 0.4500 - acc: 0.8706 - val_loss: 0.4293 - val_acc: 0.8729\n",
            "Epoch 19/20\n",
            "1875/1875 [==============================] - 4s 2ms/step - loss: 0.4474 - acc: 0.8680 - val_loss: 0.4171 - val_acc: 0.8823\n",
            "Epoch 20/20\n",
            "1875/1875 [==============================] - 4s 2ms/step - loss: 0.4503 - acc: 0.8695 - val_loss: 0.4381 - val_acc: 0.8683\n"
          ]
        },
        {
          "output_type": "execute_result",
          "data": {
            "text/plain": [
              "<keras.callbacks.History at 0x7f43c5537130>"
            ]
          },
          "metadata": {},
          "execution_count": 123
        }
      ]
    },
    {
      "cell_type": "code",
      "source": [
        "predictions = model.predict(X_test)\n",
        "print(predictions.shape)"
      ],
      "metadata": {
        "id": "dQpd1oNc4nhw",
        "colab": {
          "base_uri": "https://localhost:8080/"
        },
        "outputId": "667dbe75-897d-4086-9318-b0aba2f7eabc"
      },
      "execution_count": 124,
      "outputs": [
        {
          "output_type": "stream",
          "name": "stdout",
          "text": [
            "313/313 [==============================] - 0s 1ms/step\n",
            "(10000, 10)\n"
          ]
        }
      ]
    },
    {
      "cell_type": "code",
      "source": [
        "predictions = np.argmax(predictions, axis=1)\n",
        "print(predictions)"
      ],
      "metadata": {
        "id": "j5ZQN2A3_rgP",
        "colab": {
          "base_uri": "https://localhost:8080/"
        },
        "outputId": "4f4fdf36-a671-416a-a001-7952dc26f4da"
      },
      "execution_count": 125,
      "outputs": [
        {
          "output_type": "stream",
          "name": "stdout",
          "text": [
            "[7 2 1 ... 4 5 6]\n"
          ]
        }
      ]
    },
    {
      "cell_type": "code",
      "source": [
        " \n",
        "fig, axes = plt.subplots(ncols=20,figsize=(20, 4))\n",
        "for i in range(0,20):\n",
        "\taxes[i].set_title(predictions[i])\n",
        "\taxes[i].imshow(X_test[i], cmap='gray')\n",
        "\taxes[i].get_xaxis().set_visible(False)\n",
        "\taxes[i].get_yaxis().set_visible(False)\n",
        "plt.show()"
      ],
      "metadata": {
        "id": "EY-253566ZRt",
        "colab": {
          "base_uri": "https://localhost:8080/",
          "height": 97
        },
        "outputId": "e1ef04ee-ebb8-4e08-aa4b-6d1397489a74"
      },
      "execution_count": 126,
      "outputs": [
        {
          "output_type": "display_data",
          "data": {
            "text/plain": [
              "<Figure size 1440x288 with 20 Axes>"
            ],
            "image/png": "[encoded data removed]"
          },
          "metadata": {
            "needs_background": "light"
          }
        }
      ]
    },
    {
      "cell_type": "code",
      "source": [],
      "metadata": {
        "id": "TFiDwW_c_poC"
      },
      "execution_count": 126,
      "outputs": []
    }
  ]
}